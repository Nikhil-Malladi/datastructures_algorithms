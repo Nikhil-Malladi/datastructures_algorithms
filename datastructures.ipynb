{
 "cells": [
  {
   "cell_type": "markdown",
   "metadata": {},
   "source": [
    "# DataStructures"
   ]
  },
  {
   "cell_type": "markdown",
   "metadata": {},
   "source": [
    "## What is a Data Structure?\n",
    "*A Data Structure is a way of organizing data so that it can be used effectively*"
   ]
  },
  {
   "cell_type": "markdown",
   "metadata": {},
   "source": [
    "# Stacks"
   ]
  },
  {
   "cell_type": "code",
   "execution_count": 12,
   "metadata": {},
   "outputs": [
    {
     "name": "stdout",
     "output_type": "stream",
     "text": [
      "True isempty\n",
      "None push\n",
      "None push\n",
      "None push\n",
      "None push\n",
      "2 pop\n",
      "8 pop\n",
      "6 peek\n",
      "6 pop\n",
      "1 pop\n",
      "-1 pop\n",
      "-1 peek\n",
      "0 size\n"
     ]
    }
   ],
   "source": [
    "class Stack:\n",
    "    def __init__(self):\n",
    "        self.items = []\n",
    "    \n",
    "    def isempty(self):\n",
    "        return self.items == []\n",
    "    \n",
    "    def push(self,item):\n",
    "        self.items.append(item)\n",
    "    \n",
    "    def pop(self):\n",
    "        return self.items.pop() if self.items else -1\n",
    "        \n",
    "    def peek(self):\n",
    "        return self.items[len(self.items)-1] if self.items else -1\n",
    "    \n",
    "    def size(self):\n",
    "        return len(self.items)\n",
    "\n",
    "if __name__ == \"__main__\":\n",
    "    S = Stack()\n",
    "    print(S.isempty(),\"isempty\")\n",
    "    print(S.push(1),\"push\")\n",
    "    print(S.push(6),\"push\")\n",
    "    print(S.push(8),\"push\")\n",
    "    print(S.push(2),\"push\")\n",
    "    print(S.pop(),\"pop\")\n",
    "    print(S.pop(),\"pop\")\n",
    "    print(S.peek(),\"peek\")\n",
    "    print(S.pop(),\"pop\")\n",
    "    print(S.pop(),\"pop\")\n",
    "    print(S.pop(),\"pop\")\n",
    "    print(S.peek(),\"peek\")\n",
    "    print(S.size(),\"size\")"
   ]
  },
  {
   "cell_type": "markdown",
   "metadata": {},
   "source": [
    "# Queue"
   ]
  },
  {
   "cell_type": "code",
   "execution_count": 13,
   "metadata": {},
   "outputs": [
    {
     "name": "stdout",
     "output_type": "stream",
     "text": [
      "True isempty\n",
      "None push\n",
      "None push\n",
      "None push\n",
      "None push\n",
      "1 pop\n",
      "6 pop\n",
      "8 peek\n",
      "8 pop\n",
      "2 pop\n",
      "-1 pop\n",
      "-1 peek\n",
      "0 size\n"
     ]
    }
   ],
   "source": [
    "class Stack:\n",
    "    def __init__(self):\n",
    "        self.items = []\n",
    "    \n",
    "    def isempty(self):\n",
    "        return self.items == []\n",
    "    \n",
    "    def insert(self,item):\n",
    "        self.items.insert(0,item)\n",
    "    \n",
    "    def pop(self):\n",
    "        return self.items.pop() if self.items else -1\n",
    "        \n",
    "    def peek(self):\n",
    "        return self.items[len(self.items)-1] if self.items else -1\n",
    "    \n",
    "    def size(self):\n",
    "        return len(self.items)\n",
    "\n",
    "if __name__ == \"__main__\":\n",
    "    S = Stack()\n",
    "    print(S.isempty(),\"isempty\")\n",
    "    print(S.insert(1),\"push\")\n",
    "    print(S.insert(6),\"push\")\n",
    "    print(S.insert(8),\"push\")\n",
    "    print(S.insert(2),\"push\")\n",
    "    print(S.pop(),\"pop\")\n",
    "    print(S.pop(),\"pop\")\n",
    "    print(S.peek(),\"peek\")\n",
    "    print(S.pop(),\"pop\")\n",
    "    print(S.pop(),\"pop\")\n",
    "    print(S.pop(),\"pop\")\n",
    "    print(S.peek(),\"peek\")\n",
    "    print(S.size(),\"size\")"
   ]
  },
  {
   "cell_type": "code",
   "execution_count": null,
   "metadata": {},
   "outputs": [],
   "source": []
  }
 ],
 "metadata": {
  "kernelspec": {
   "display_name": "Python 3",
   "language": "python",
   "name": "python3"
  },
  "language_info": {
   "codemirror_mode": {
    "name": "ipython",
    "version": 3
   },
   "file_extension": ".py",
   "mimetype": "text/x-python",
   "name": "python",
   "nbconvert_exporter": "python",
   "pygments_lexer": "ipython3",
   "version": "3.7.3"
  }
 },
 "nbformat": 4,
 "nbformat_minor": 5
}
